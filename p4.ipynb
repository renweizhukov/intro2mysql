{
 "cells": [
  {
   "cell_type": "markdown",
   "metadata": {},
   "source": [
    "# 4. Inserting Variable Data with MySQL"
   ]
  },
  {
   "cell_type": "code",
   "execution_count": 1,
   "metadata": {},
   "outputs": [
    {
     "data": {
      "image/jpeg": "[encoded data removed]",
      "text/html": [
       "\n",
       "        <iframe\n",
       "            width=\"400\"\n",
       "            height=\"300\"\n",
       "            src=\"https://www.youtube.com/embed/i6PVshqAUGw\"\n",
       "            frameborder=\"0\"\n",
       "            allowfullscreen\n",
       "        ></iframe>\n",
       "        "
      ],
      "text/plain": [
       "<IPython.lib.display.YouTubeVideo at 0x7fbd1d932b00>"
      ]
     },
     "execution_count": 1,
     "metadata": {},
     "output_type": "execute_result"
    }
   ],
   "source": [
    "from IPython.display import YouTubeVideo\n",
    "YouTubeVideo('i6PVshqAUGw')"
   ]
  },
  {
   "cell_type": "markdown",
   "metadata": {},
   "source": [
    "## 4.1 Preparation\n",
    "\n",
    "### 4.1.1 PythonAnywhere\n",
    "\n",
    "If you use PythonAnywhere, hundreds of packages including MySQLdb are already installed and ready to be imported.\n",
    "\n",
    "### 4.1.2 Local machine\n",
    "\n",
    "Assume that you have a Linux machine with Ubuntu 16.04LTS.\n",
    "\n",
    "To install MySQLdb via apt:\n",
    "\n",
    "```bash\n",
    "$ sudo apt install python-mysqldb\n",
    "```\n",
    "\n",
    "Via pip:\n",
    "\n",
    "```bash\n",
    "$ pip install MySQL-python\n",
    "```\n",
    "\n",
    "Via conda:\n",
    "\n",
    "```bash\n",
    "$ conda install -c bioconda mysqlclient\n",
    "```\n",
    "\n",
    "Note that the package `mysql-python` hasn't been built for [Python3](https://github.com/ContinuumIO/anaconda-issues/issues/1717).\n",
    "\n",
    "## 4.2 Interact with MySQL server via Python.\n",
    "\n",
    "The python syntax here is almost the same as the one for SQLite."
   ]
  },
  {
   "cell_type": "code",
   "execution_count": 3,
   "metadata": {},
   "outputs": [
    {
     "name": "stdout",
     "output_type": "stream",
     "text": [
      "(1385419969, 'renwei', 'Welcome to the tutorial!')\n",
      "(1385419970, 'renwei', 'wow thanks @tingting, you have completed me.')\n",
      "(1385419971, 'renwei', 'wow thanks @BillGates, thanks Bill for the job offer as VP, but I wanna keep opts open.')\n"
     ]
    }
   ],
   "source": [
    "import MySQLdb\n",
    "\n",
    "# Configuration for the PythonAnywhere MySQL server:\n",
    "#host = \"renwei.mysql.pythonanywhere-services.com\"\n",
    "#username = \"renwei\"\n",
    "#password = \"xxxxxxxx\"\n",
    "#dbname = \"renwei$tutorial\"\n",
    "\n",
    "# Configuration for the local MySQL server:\n",
    "# The default socket /tmp/mysql.sock doesn't exist and we haven't found a way of \n",
    "# setting it to the correct value, so we have to specify it in the connect() call. \n",
    "# Also, to work around the socket issue, we may specify the host as \"127.0.0.1\", \n",
    "# but it will force the client to connect to the MySQL server via TCP/IP, which is \n",
    "# in general slower than \"localhost\" via UNIX domain socket.\n",
    "socketFile = '/var/run/mysqld/mysqld.sock' \n",
    "host = \"localhost\"\n",
    "username = \"root\"\n",
    "password = \"xxxxxxxx\"\n",
    "dbname = \"tutorial\"\n",
    "\n",
    "conn = MySQLdb.connect(\n",
    "    unix_socket = socketFile,\n",
    "    host = host, \n",
    "    user = username, \n",
    "    passwd = password, \n",
    "    db = dbname)\n",
    "cur = conn.cursor()\n",
    "\n",
    "cur.execute(\"SELECT * FROM taula\")\n",
    "\n",
    "rows = cur.fetchall()\n",
    "\n",
    "for eachRow in rows:\n",
    "    print(eachRow)"
   ]
  }
 ],
 "metadata": {
  "kernelspec": {
   "display_name": "Python [conda env:mysql]",
   "language": "python",
   "name": "conda-env-mysql-py"
  },
  "language_info": {
   "codemirror_mode": {
    "name": "ipython",
    "version": 3
   },
   "file_extension": ".py",
   "mimetype": "text/x-python",
   "name": "python",
   "nbconvert_exporter": "python",
   "pygments_lexer": "ipython3",
   "version": "3.6.4"
  }
 },
 "nbformat": 4,
 "nbformat_minor": 2
}
