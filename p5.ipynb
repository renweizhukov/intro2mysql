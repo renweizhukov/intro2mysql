{
 "cells": [
  {
   "cell_type": "markdown",
   "metadata": {},
   "source": [
    "# 5. Streaming Tweets from Twitter to Database Part 1"
   ]
  },
  {
   "cell_type": "code",
   "execution_count": 1,
   "metadata": {},
   "outputs": [
    {
     "data": {
      "image/jpeg": "[encoded data removed]",
      "text/html": [
       "\n",
       "        <iframe\n",
       "            width=\"400\"\n",
       "            height=\"300\"\n",
       "            src=\"https://www.youtube.com/embed/LC8VpW03Ksw\"\n",
       "            frameborder=\"0\"\n",
       "            allowfullscreen\n",
       "        ></iframe>\n",
       "        "
      ],
      "text/plain": [
       "<IPython.lib.display.YouTubeVideo at 0x7f55db7d2390>"
      ]
     },
     "execution_count": 1,
     "metadata": {},
     "output_type": "execute_result"
    }
   ],
   "source": [
    "from IPython.display import YouTubeVideo\n",
    "YouTubeVideo('LC8VpW03Ksw')"
   ]
  },
  {
   "cell_type": "markdown",
   "metadata": {},
   "source": [
    "## 5.1 Insert variable data."
   ]
  },
  {
   "cell_type": "code",
   "execution_count": 2,
   "metadata": {},
   "outputs": [
    {
     "name": "stdout",
     "output_type": "stream",
     "text": [
      "(1385419971, 'RENWei', 'wow thanks @BillGates, thanks Bill for the job offer as VP, but I wanna keep opts open.')\n",
      "(1385419970, 'renwei', 'wow thanks @tingting, you have completed me.')\n",
      "(13854, 'renwei', 'wow thanks @tingting, you have completed me.')\n",
      "(1517478505, 'Python', 'man im so cool')\n"
     ]
    }
   ],
   "source": [
    "import MySQLdb\n",
    "import time\n",
    "\n",
    "# Configuration for the PythonAnywhere MySQL server:\n",
    "#host = \"renwei.mysql.pythonanywhere-services.com\"\n",
    "#username = \"renwei\"\n",
    "#password = \"xxxxxxxx\"\n",
    "#dbname = \"renwei$tutorial\"\n",
    "\n",
    "# Configuration for the local MySQL server:\n",
    "# The default socket /tmp/mysql.sock doesn't exist and we haven't found a way of \n",
    "# setting it to the correct value, so we have to specify it in the connect() call. \n",
    "# Also, to work around the socket issue, we may specify the host as \"127.0.0.1\", \n",
    "# but it will force the client to connect to the MySQL server via TCP/IP, which is \n",
    "# in general slower than \"localhost\" via UNIX domain socket.\n",
    "socketFile = '/var/run/mysqld/mysqld.sock' \n",
    "host = \"localhost\"\n",
    "username = \"root\"\n",
    "password = \"xxxxxxxx\"\n",
    "dbname = \"tutorial\"\n",
    "\n",
    "conn = MySQLdb.connect(\n",
    "    unix_socket = socketFile,\n",
    "    host = host, \n",
    "    user = username, \n",
    "    passwd = password, \n",
    "    db = dbname)\n",
    "cur = conn.cursor()\n",
    "\n",
    "username = 'Python'\n",
    "tweet = 'man im so cool'\n",
    "\n",
    "cur.execute(\"INSERT INTO taula (time, username, tweet) VALUES (%s, %s, %s)\",\n",
    "    (time.time(), username, tweet))\n",
    "conn.commit()\n",
    "\n",
    "cur.execute(\"SELECT * FROM taula\")\n",
    "\n",
    "rows = cur.fetchall()\n",
    "\n",
    "for eachRow in rows:\n",
    "    print(eachRow)"
   ]
  }
 ],
 "metadata": {
  "kernelspec": {
   "display_name": "Python [conda env:mysql]",
   "language": "python",
   "name": "conda-env-mysql-py"
  },
  "language_info": {
   "codemirror_mode": {
    "name": "ipython",
    "version": 3
   },
   "file_extension": ".py",
   "mimetype": "text/x-python",
   "name": "python",
   "nbconvert_exporter": "python",
   "pygments_lexer": "ipython3",
   "version": "3.6.4"
  }
 },
 "nbformat": 4,
 "nbformat_minor": 2
}
