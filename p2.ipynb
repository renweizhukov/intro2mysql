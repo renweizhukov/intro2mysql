{
 "cells": [
  {
   "cell_type": "markdown",
   "metadata": {},
   "source": [
    "# 2. Creating Tables and Inserting Data with MySQL"
   ]
  },
  {
   "cell_type": "code",
   "execution_count": 1,
   "metadata": {},
   "outputs": [
    {
     "data": {
      "image/jpeg": "[encoded data removed]",
      "text/html": [
       "\n",
       "        <iframe\n",
       "            width=\"400\"\n",
       "            height=\"300\"\n",
       "            src=\"https://www.youtube.com/embed/vemWWj8THK8\"\n",
       "            frameborder=\"0\"\n",
       "            allowfullscreen\n",
       "        ></iframe>\n",
       "        "
      ],
      "text/plain": [
       "<IPython.lib.display.YouTubeVideo at 0x7f5e9dabce48>"
      ]
     },
     "execution_count": 1,
     "metadata": {},
     "output_type": "execute_result"
    }
   ],
   "source": [
    "from IPython.display import YouTubeVideo\n",
    "YouTubeVideo('vemWWj8THK8')"
   ]
  },
  {
   "cell_type": "markdown",
   "metadata": {},
   "source": [
    "The following commands are applicable to both the remote database at pythonanywhere and the local database at your machine.\n",
    "\n",
    "## 2.1 Basic MySQL commands (cont.)\n",
    "\n",
    "### 2.1.1 Select to the database.\n",
    "\n",
    "```mysql\n",
    "mysql> USE renwei$tutorial\n",
    "Database changed\n",
    "```\n",
    "\n",
    "### 2.1.2 Create a table with utf8mb4 columns.\n",
    "\n",
    "```mysql\n",
    "mysql> CREATE TABLE taula (\n",
    "    ->   time INT(13), \n",
    "    ->   username VARCHAR(20) CHARACTER SET utf8mb4 COLLATE utf8mb4_unicode_ci NOT NULL, \n",
    "    ->   tweet VARCHAR(280) CHARACTER SET utf8mb4 COLLATE utf8mb4_unicode_ci NOT NULL\n",
    "    -> ) CHARACTER SET utf8mb4;\n",
    "Query OK, 0 rows affected (0.02 sec)\n",
    "\n",
    "```\n",
    "\n",
    "(1) INT(13) defines an integer with 13 digits long.\n",
    "\n",
    "(2) VARCHAR(20) defines a string with at most 20 characters. If we try to insert 21 characters into a VARCHAR(20) column, the last character will be silently chopped off. Note that CHAR(20) defines a string with exactly 20 characters.\n",
    "\n",
    "(3) Other datatypes:\n",
    "\n",
    "TEXT, FLOAT, DOUBLE, DECIMAL, BLOB, TINYINT, SMALLINT, MEDIUMINT, BIGINT, DOUBLE, DATE, DATETIME, TIMESTAMP, YEAR, TINYBLOB, TINYTEXT, MEDIUMBLOB, MEDIUMTEXT, LONGBLOB, LONGTEXT, ENUM.\n",
    "\n",
    "(4) To check the character set of one column,\n",
    "\n",
    "```mysql\n",
    "mysql> SELECT character_set_name FROM information_schema.`COLUMNS`  WHERE table_name = \"taula\"   AND column_name = \"tweet\";\n",
    "+--------------------+\n",
    "| character_set_name |\n",
    "+--------------------+\n",
    "| utf8mb4            |\n",
    "+--------------------+\n",
    "1 row in set (0.00 sec)\n",
    "\n",
    "```\n",
    "\n",
    "### 2.1.3 Display the structure of the table.\n",
    "\n",
    "```mysql\n",
    "mysql> DESCRIBE taula;\n",
    "+----------+--------------+------+-----+---------+-------+\n",
    "| Field    | Type         | Null | Key | Default | Extra |\n",
    "+----------+--------------+------+-----+---------+-------+\n",
    "| time     | int(13)      | YES  |     | NULL    |       |\n",
    "| username | varchar(20)  | NO   |     | NULL    |       |\n",
    "| tweet    | varchar(280) | NO   |     | NULL    |       |\n",
    "+----------+--------------+------+-----+---------+-------+\n",
    "3 rows in set (0.00 sec)\n",
    "\n",
    "```\n",
    "\n",
    "To get more detailed information about columns:\n",
    "\n",
    "```mysql\n",
    "mysql> SHOW FULL COLUMNS FROM taula;\n",
    "+----------+--------------+--------------------+------+-----+---------+-------+---------------------------------+---------+\n",
    "| Field    | Type         | Collation          | Null | Key | Default | Extra | Privileges                      | Comment |\n",
    "+----------+--------------+--------------------+------+-----+---------+-------+---------------------------------+---------+\n",
    "| time     | int(13)      | NULL               | YES  |     | NULL    |       | select,insert,update,references |         |\n",
    "| username | varchar(20)  | utf8mb4_unicode_ci | NO   |     | NULL    |       | select,insert,update,references |         |\n",
    "| tweet    | varchar(280) | utf8mb4_unicode_ci | NO   |     | NULL    |       | select,insert,update,references |         |\n",
    "+----------+--------------+--------------------+------+-----+---------+-------+---------------------------------+---------+\n",
    "3 rows in set (0.00 sec)\n",
    "\n",
    "```\n",
    "\n",
    "### 2.1.4 Insert data into the table.\n",
    "\n",
    "Below we insert three rows into the table \"taula\".\n",
    "\n",
    "```mysql\n",
    "mysql> INSERT INTO taula VALUES (1385419969, \"renwei\", \"Welcome to the tutorial!\");\n",
    "Query OK, 1 row affected (0.00 sec)\n",
    "\n",
    "mysql> INSERT INTO taula VALUES (1385419970, \"renwei\", \"wow thanks @tingting, you have completed me.\");\n",
    "Query OK, 1 row affected (0.01 sec)\n",
    "\n",
    "mysql> INSERT INTO taula VALUES (1385419971, \"renwei\", \"wow thanks @BillGates, thanks Bill for the job offer as VP, but I wanna keep opts open.\");\n",
    "Query OK, 1 row affected (0.01 sec)\n",
    "\n",
    "```\n",
    "\n",
    "### 2.1.5 Show the table content.\n",
    "\n",
    "```mysql\n",
    "mysql> SELECT * FROM taula;\n",
    "+------------+----------+-----------------------------------------------------------------------------------------+\n",
    "| time       | username | tweet                                                                                   |\n",
    "+------------+----------+-----------------------------------------------------------------------------------------+\n",
    "| 1385419969 | renwei   | Welcome to the tutorial!                                                                |\n",
    "| 1385419970 | renwei   | wow thanks @tingting, you have completed me.                                            |\n",
    "| 1385419971 | renwei   | wow thanks @BillGates, thanks Bill for the job offer as VP, but I wanna keep opts open. |\n",
    "+------------+----------+-----------------------------------------------------------------------------------------+\n",
    "3 rows in set (0.00 sec)\n",
    "\n",
    "```"
   ]
  }
 ],
 "metadata": {
  "kernelspec": {
   "display_name": "Python [conda env:mysql]",
   "language": "python",
   "name": "conda-env-mysql-py"
  },
  "language_info": {
   "codemirror_mode": {
    "name": "ipython",
    "version": 3
   },
   "file_extension": ".py",
   "mimetype": "text/x-python",
   "name": "python",
   "nbconvert_exporter": "python",
   "pygments_lexer": "ipython3",
   "version": "3.6.4"
  }
 },
 "nbformat": 4,
 "nbformat_minor": 2
}
